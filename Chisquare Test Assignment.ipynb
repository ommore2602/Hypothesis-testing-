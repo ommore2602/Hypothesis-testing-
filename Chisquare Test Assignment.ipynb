{
 "cells": [
  {
   "cell_type": "markdown",
   "id": "a572599f",
   "metadata": {},
   "source": [
    "# State The Hypotheses"
   ]
  },
  {
   "cell_type": "code",
   "execution_count": 1,
   "id": "aade125b",
   "metadata": {},
   "outputs": [
    {
     "name": "stdout",
     "output_type": "stream",
     "text": [
      "Chi-Square Statistic: 5.638227513227513\n",
      "P-value: 0.22784371130697179\n",
      "Degrees of Freedom: 4\n",
      "Expected Frequencies:\n",
      "[[ 48.  72.]\n",
      " [ 72. 108.]\n",
      " [ 60.  90.]\n",
      " [ 32.  48.]\n",
      " [ 28.  42.]]\n"
     ]
    }
   ],
   "source": [
    "import numpy as np\n",
    "from scipy.stats import chi2_contingency\n",
    "\n",
    "# Contingency table data\n",
    "observed = np.array([[50, 70],\n",
    "                     [80, 100],\n",
    "                     [60, 90],\n",
    "                     [30, 50],\n",
    "                     [20, 50]])\n",
    "\n",
    "# Perform Chi-Square test for independence\n",
    "chi2, p, dof, expected = chi2_contingency(observed)\n",
    "\n",
    "# Output the results\n",
    "print(\"Chi-Square Statistic:\", chi2)\n",
    "print(\"P-value:\", p)\n",
    "print(\"Degrees of Freedom:\", dof)\n",
    "print(\"Expected Frequencies:\")\n",
    "print(expected)"
   ]
  },
  {
   "cell_type": "markdown",
   "id": "c39b47dc",
   "metadata": {},
   "source": [
    "# Compute the Chi-Square Statistic"
   ]
  },
  {
   "cell_type": "code",
   "execution_count": 2,
   "id": "c2fa8883",
   "metadata": {},
   "outputs": [
    {
     "name": "stdout",
     "output_type": "stream",
     "text": [
      "Chi-Square Statistic (Manual): 5.638227513227513\n"
     ]
    }
   ],
   "source": [
    "import numpy as np\n",
    "\n",
    "# Contingency table data\n",
    "observed = np.array([[50, 70],\n",
    "                     [80, 100],\n",
    "                     [60, 90],\n",
    "                     [30, 50],\n",
    "                     [20, 50]])\n",
    "\n",
    "# Calculate expected frequencies\n",
    "row_totals = observed.sum(axis=1)\n",
    "col_totals = observed.sum(axis=0)\n",
    "total = observed.sum()\n",
    "\n",
    "expected = np.outer(row_totals, col_totals) / total\n",
    "\n",
    "# Compute Chi-Square statistic\n",
    "chi2 = np.sum((observed - expected)**2 / expected)\n",
    "\n",
    "print(\"Chi-Square Statistic (Manual):\", chi2)"
   ]
  },
  {
   "cell_type": "markdown",
   "id": "545c6c52",
   "metadata": {},
   "source": [
    "# Determine the Critical Value"
   ]
  },
  {
   "cell_type": "code",
   "execution_count": 3,
   "id": "0c7a05bd",
   "metadata": {},
   "outputs": [
    {
     "name": "stdout",
     "output_type": "stream",
     "text": [
      "Critical Value: 9.487729036781154\n"
     ]
    }
   ],
   "source": [
    "from scipy.stats import chi2\n",
    "\n",
    "alpha = 0.05\n",
    "df = 4\n",
    "\n",
    "critical_value = chi2.ppf(1 - alpha, df)\n",
    "\n",
    "print(\"Critical Value:\", critical_value)"
   ]
  },
  {
   "cell_type": "markdown",
   "id": "3facdc18",
   "metadata": {},
   "source": [
    "# Make a Decision"
   ]
  },
  {
   "cell_type": "code",
   "execution_count": 4,
   "id": "c52ddbab",
   "metadata": {},
   "outputs": [
    {
     "name": "stdout",
     "output_type": "stream",
     "text": [
      "Reject the null hypothesis. There is a significant association between device type and satisfaction level.\n"
     ]
    }
   ],
   "source": [
    "# Chi-Square statistic from earlier calculation\n",
    "chi2_statistic = 28.64297419895143  # Replace with your calculated Chi-Square statistic\n",
    "\n",
    "# Critical value from earlier calculation\n",
    "critical_value = 9.487729036781154  # Replace with your calculated critical value\n",
    "\n",
    "# Make a decision\n",
    "if chi2_statistic > critical_value:\n",
    "    print(\"Reject the null hypothesis. There is a significant association between device type and satisfaction level.\")\n",
    "else:\n",
    "    print(\"Fail to reject the null hypothesis. There is no significant association between device type and satisfaction level.\")"
   ]
  },
  {
   "cell_type": "code",
   "execution_count": null,
   "id": "8b3d6ee7",
   "metadata": {},
   "outputs": [],
   "source": []
  }
 ],
 "metadata": {
  "kernelspec": {
   "display_name": "Python 3 (ipykernel)",
   "language": "python",
   "name": "python3"
  },
  "language_info": {
   "codemirror_mode": {
    "name": "ipython",
    "version": 3
   },
   "file_extension": ".py",
   "mimetype": "text/x-python",
   "name": "python",
   "nbconvert_exporter": "python",
   "pygments_lexer": "ipython3",
   "version": "3.11.5"
  }
 },
 "nbformat": 4,
 "nbformat_minor": 5
}
