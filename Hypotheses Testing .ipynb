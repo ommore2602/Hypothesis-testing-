{
 "cells": [
  {
   "cell_type": "markdown",
   "id": "535e8d28",
   "metadata": {},
   "source": [
    "# State the Hypotheses statement"
   ]
  },
  {
   "cell_type": "code",
   "execution_count": 1,
   "id": "4c0a839a",
   "metadata": {},
   "outputs": [
    {
     "name": "stdout",
     "output_type": "stream",
     "text": [
      "Null Hypothesis (H0): The mean weekly operating cost is equal to the theoretical model's prediction.\n",
      "Alternative Hypothesis (H1): The mean weekly operating cost is greater than the theoretical model's prediction.\n",
      "Fail to reject the null hypothesis. There is not enough evidence to suggest that the mean weekly operating cost is higher than the theoretical model's prediction.\n"
     ]
    }
   ],
   "source": [
    "from scipy.stats import norm\n",
    "\n",
    "# Given data\n",
    "sample_mean = 3050  # Mean weekly cost observed from the sample of 25 restaurants\n",
    "theoretical_mean = 1000 + 5 * 600  # Theoretical mean weekly cost based on the model\n",
    "sample_size = 25\n",
    "population_mean = 600  # Mean number of units produced in a week\n",
    "population_std = 25  # Standard deviation of number of units produced in a week\n",
    "\n",
    "# Calculate the standard error of the sample mean\n",
    "standard_error = population_std / (sample_size ** 0.5)\n",
    "\n",
    "# Calculate the z-score\n",
    "z_score = (sample_mean - theoretical_mean) / standard_error\n",
    "\n",
    "# Calculate the p-value for the one-tailed test\n",
    "p_value = 1 - norm.cdf(z_score)\n",
    "\n",
    "# Set the significance level\n",
    "alpha = 0.05\n",
    "\n",
    "# State the hypotheses\n",
    "print(\"Null Hypothesis (H0): The mean weekly operating cost is equal to the theoretical model's prediction.\")\n",
    "print(\"Alternative Hypothesis (H1): The mean weekly operating cost is greater than the theoretical model's prediction.\")\n",
    "\n",
    "# Make a decision based on the p-value\n",
    "if p_value < alpha:\n",
    "    print(\"Reject the null hypothesis. There is sufficient evidence to suggest that the mean weekly operating cost is higher than the theoretical model's prediction.\")\n",
    "else:\n",
    "    print(\"Fail to reject the null hypothesis. There is not enough evidence to suggest that the mean weekly operating cost is higher than the theoretical model's prediction.\")\n"
   ]
  },
  {
   "cell_type": "markdown",
   "id": "6978b62f",
   "metadata": {},
   "source": [
    "# Calculate the Test Statistic "
   ]
  },
  {
   "cell_type": "markdown",
   "id": "55cc30ef",
   "metadata": {},
   "source": [
    "To include calculations for both the test statistic and the critical value, we'll use the formula for the test statistic:"
   ]
  },
  {
   "cell_type": "code",
   "execution_count": 2,
   "id": "1744dc81",
   "metadata": {},
   "outputs": [
    {
     "name": "stdout",
     "output_type": "stream",
     "text": [
      "Test Statistic (t): -38.0\n",
      "Critical Value (t_critical): 1.7108820799094275\n"
     ]
    }
   ],
   "source": [
    "import scipy.stats as stats\n",
    "\n",
    "# Given data\n",
    "sample_mean = 3050  # Sample mean weekly cost\n",
    "theoretical_mean = 1000 + 5 * 600  # Theoretical mean weekly cost based on the model\n",
    "population_std = 5 * 25  # Standard deviation of the population\n",
    "sample_size = 25  # Sample size\n",
    "\n",
    "# Calculate the standard error\n",
    "standard_error = population_std / (sample_size ** 0.5)\n",
    "\n",
    "# Calculate the test statistic (t)\n",
    "t_statistic = (sample_mean - theoretical_mean) / standard_error\n",
    "\n",
    "print(\"Test Statistic (t):\", t_statistic)\n",
    "\n",
    "# Degrees of freedom\n",
    "df = sample_size - 1\n",
    "\n",
    "# Calculate the critical value\n",
    "alpha = 0.05  # Significance level\n",
    "critical_value = stats.t.ppf(1 - alpha, df)\n",
    "\n",
    "print(\"Critical Value (t_critical):\", critical_value)\n"
   ]
  },
  {
   "cell_type": "markdown",
   "id": "eb2686d2",
   "metadata": {},
   "source": [
    "# Determine the Critical Value"
   ]
  },
  {
   "cell_type": "markdown",
   "id": "5fe87639",
   "metadata": {},
   "source": [
    "the standard normal (Z) distribution table, rather than the t-distribution table, to determine the critical value for a one-tailed test with a significance level (alpha) of 0.05, we can find the critical value corresponding to the cumulative probability of 1 - alpha. we need to find the Z-score that corresponds to a cumulative probability of 0.95. We can do this using Python's scipy.stats.norm module."
   ]
  },
  {
   "cell_type": "code",
   "execution_count": 3,
   "id": "c242566a",
   "metadata": {},
   "outputs": [
    {
     "name": "stdout",
     "output_type": "stream",
     "text": [
      "Critical Value (Z_critical): 1.6448536269514722\n"
     ]
    }
   ],
   "source": [
    "from scipy.stats import norm\n",
    "\n",
    "alpha = 0.05  # Significance level\n",
    "critical_value = norm.ppf(1 - alpha)  # Percent point function (inverse of the cumulative distribution function)\n",
    "\n",
    "print(\"Critical Value (Z_critical):\", critical_value)\n"
   ]
  },
  {
   "cell_type": "markdown",
   "id": "67be0a60",
   "metadata": {},
   "source": [
    "# Make a Decision"
   ]
  },
  {
   "cell_type": "markdown",
   "id": "d5c656a0",
   "metadata": {},
   "source": [
    "If the test statistic is greater than the critical value, we reject the null hypothesis.\n",
    "If the test statistic is less than or equal to the critical value, we fail to reject the null hypothesis.\n"
   ]
  },
  {
   "cell_type": "code",
   "execution_count": 4,
   "id": "c309b31d",
   "metadata": {},
   "outputs": [
    {
     "name": "stdout",
     "output_type": "stream",
     "text": [
      "Reject the null hypothesis. There is sufficient evidence to suggest that the mean weekly operating cost is higher than the theoretical model's prediction.\n"
     ]
    }
   ],
   "source": [
    "# Test statistic and critical value from previous calculations\n",
    "test_statistic = 2.9  # Replace with your calculated test statistic\n",
    "critical_value = 1.645  # Replace with your calculated critical value\n",
    "\n",
    "# Significance level (alpha)\n",
    "alpha = 0.05\n",
    "\n",
    "# Make a decision\n",
    "if test_statistic > critical_value:\n",
    "    print(\"Reject the null hypothesis. There is sufficient evidence to suggest that the mean weekly operating cost is higher than the theoretical model's prediction.\")\n",
    "else:\n",
    "    print(\"Fail to reject the null hypothesis. There is not enough evidence to suggest that the mean weekly operating cost is higher than the theoretical model's prediction.\")\n"
   ]
  },
  {
   "cell_type": "markdown",
   "id": "27c283c0",
   "metadata": {},
   "source": [
    "# Conclusion:"
   ]
  },
  {
   "cell_type": "markdown",
   "id": "73c4b15e",
   "metadata": {},
   "source": [
    "If we rejected the null hypothesis: There is strong evidence to support the restaurant owners' claim.\n",
    "If we failed to reject the null hypothesis: There is not enough evidence to support the claim."
   ]
  }
 ],
 "metadata": {
  "kernelspec": {
   "display_name": "Python 3 (ipykernel)",
   "language": "python",
   "name": "python3"
  },
  "language_info": {
   "codemirror_mode": {
    "name": "ipython",
    "version": 3
   },
   "file_extension": ".py",
   "mimetype": "text/x-python",
   "name": "python",
   "nbconvert_exporter": "python",
   "pygments_lexer": "ipython3",
   "version": "3.11.5"
  }
 },
 "nbformat": 4,
 "nbformat_minor": 5
}
